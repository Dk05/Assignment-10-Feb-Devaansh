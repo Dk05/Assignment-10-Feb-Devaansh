{
 "cells": [
  {
   "cell_type": "code",
   "execution_count": 1,
   "id": "34436219",
   "metadata": {},
   "outputs": [
    {
     "data": {
      "text/plain": [
       "' FUCNTION USED TO  OPEN FILE IS [[[with open (\"devaansh.txt\", \\'r\\') \\n\\n    ---------------THERE DIFFERENT MODES TO OPEN A FILE--------------\\n    \\n    1.) READ r : WHEN A FILE IS OPENNED IN READ MODE ONLY MODIFICATION IS PROHIBITED. \\n    \\n    2.) WRITE w : WHEN A FILE IS OPENNED IN WRITE MODE, MODIFICATOIN IS POSSIBLE.\\n    \\n    3.) APPEND a : WHEN A FILE IS OPENNED IN WRITE MODE AND A NEW CONTENT IS ADDED TO THE END OF THE FILE.\\n    \\n    4.) READ + WRITE  rw : WHEN A FILE IS OPENNED IN BOTH READ AND WRITE MODE WE CAN ADD CONTENT AND SAVE. \\n    \\n    5.) READ + APPEND rb : WHEN A FILE IS OPENNED IN BOTH READ AND APPEND MODE WE CAN ADD CONTENT AT THE \\n        END OF THE FILE AND SAVE IT.\\n    \\n    6.) WRITE + APPEND wb : \\n    \\n    '"
      ]
     },
     "execution_count": 1,
     "metadata": {},
     "output_type": "execute_result"
    }
   ],
   "source": [
    "#ANS 1 :\n",
    "\n",
    "''' FUCNTION USED TO  OPEN FILE IS [[[with open (\"devaansh.txt\", 'r') \n",
    "\n",
    "    ---------------THERE DIFFERENT MODES TO OPEN A FILE--------------\n",
    "    \n",
    "    1.) READ r : WHEN A FILE IS OPENNED IN READ MODE ONLY MODIFICATION IS PROHIBITED. \n",
    "    \n",
    "    2.) WRITE w : WHEN A FILE IS OPENNED IN WRITE MODE, MODIFICATOIN IS POSSIBLE.\n",
    "    \n",
    "    3.) APPEND a : WHEN A FILE IS OPENNED IN WRITE MODE AND A NEW CONTENT IS ADDED TO THE END OF THE FILE.\n",
    "    \n",
    "    4.) READ + WRITE  rw : WHEN A FILE IS OPENNED IN BOTH READ AND WRITE MODE WE CAN ADD CONTENT AND SAVE. \n",
    "    \n",
    "    5.) READ + APPEND rb : WHEN A FILE IS OPENNED IN BOTH READ AND APPEND MODE WE CAN ADD CONTENT AT THE \n",
    "        END OF THE FILE AND SAVE IT.\n",
    "    \n",
    "    6.) WRITE + APPEND wb : \n",
    "    \n",
    "    '''"
   ]
  },
  {
   "cell_type": "code",
   "execution_count": 2,
   "id": "7a0e0980",
   "metadata": {},
   "outputs": [
    {
     "data": {
      "text/plain": [
       "\" CLOSE() FUNCTION IS USED TO CLOSE A FILE OPPENED IN EITHER OF THE MODES.\\n\\n    IT IS IMPORTANT TO CLOSE FILE AS WHEN ANY CHANGE MADE TO THE FILE IT WON'T REFLECT IN CURRENT \\n    OPPENED FILE WHICH LEADS TO DATA CORRUPTION AND TO SAVE THE MEMORY SPACE , SO IT IS MANDATORY TO CLOSE \\n    PREVIOUS EDITED FILE. \""
      ]
     },
     "execution_count": 2,
     "metadata": {},
     "output_type": "execute_result"
    }
   ],
   "source": [
    "# ANS 2 :\n",
    "\n",
    "''' CLOSE() FUNCTION IS USED TO CLOSE A FILE OPPENED IN EITHER OF THE MODES.\n",
    "\n",
    "    IT IS IMPORTANT TO CLOSE FILE AS WHEN ANY CHANGE MADE TO THE FILE IT WON'T REFLECT IN CURRENT \n",
    "    OPPENED FILE WHICH LEADS TO DATA CORRUPTION AND TO SAVE THE MEMORY SPACE , SO IT IS MANDATORY TO CLOSE \n",
    "    PREVIOUS EDITED FILE. '''\n"
   ]
  },
  {
   "cell_type": "code",
   "execution_count": 24,
   "id": "8afdda60",
   "metadata": {},
   "outputs": [
    {
     "name": "stdout",
     "output_type": "stream",
     "text": [
      "I WANT TO BECOME DATA SCIENTISTS\n"
     ]
    }
   ],
   "source": [
    "#ANS 3 :\n",
    "\n",
    "with open(\"Devaansh.txt\", \"r\") as file1:\n",
    "    read_file = file1.read()\n",
    "    print(read_file)"
   ]
  },
  {
   "cell_type": "code",
   "execution_count": 25,
   "id": "5a3d7f07",
   "metadata": {},
   "outputs": [
    {
     "name": "stdout",
     "output_type": "stream",
     "text": [
      "I WANT TO BECOME DATA SCIENTISTS\n",
      "I WANT TO BECOME DATA SCIENTISTS\n",
      "['I WANT TO BECOME DATA SCIENTISTS']\n"
     ]
    }
   ],
   "source": [
    "#ANS 4 :\n",
    "\n",
    "''' READ() is a method which returns the entire content of the file.\n",
    "    READLINE() is a method which returns the single line of content in file, line by line reading a file.\n",
    "    READLINES() is a method which returns the entire lines of content in a file in form of list of \n",
    "    strings.'''\n",
    "\n",
    "with open(\"Devaansh.txt\", \"r\") as file1:\n",
    "    read_file = file1.read()\n",
    "    print(read_file)\n",
    "    \n",
    "with open(\"Devaansh.txt\", \"r\") as file1:\n",
    "    read_file = file1.readline()\n",
    "    print(read_file)\n",
    "    \n",
    "with open(\"Devaansh.txt\", \"r\") as file1:\n",
    "    read_file = file1.readlines()\n",
    "    print(read_file)   "
   ]
  },
  {
   "cell_type": "code",
   "execution_count": 26,
   "id": "df7f8fff",
   "metadata": {},
   "outputs": [
    {
     "data": {
      "text/plain": [
       "\" WITH OPEN is used to open and close the file. We don't have to specify the CLOSE() function WITH \\n    statement automatically closes the file. We can have 2 funtions for openning and closing the file so, \\n    with open is used in that case. \""
      ]
     },
     "execution_count": 26,
     "metadata": {},
     "output_type": "execute_result"
    }
   ],
   "source": [
    "# ANS 5 :\n",
    "\n",
    "''' WITH OPEN is used to open and close the file. We don't have to specify the CLOSE() function WITH \n",
    "    statement automatically closes the file. We can have 2 funtions for openning and closing the file so, \n",
    "    with open is used in that case. '''\n"
   ]
  },
  {
   "cell_type": "code",
   "execution_count": 29,
   "id": "561ce91d",
   "metadata": {},
   "outputs": [
    {
     "name": "stdout",
     "output_type": "stream",
     "text": [
      "13\n",
      "None\n"
     ]
    }
   ],
   "source": [
    "# ANS 6 : \n",
    "\n",
    "''' WRITE() is a method that is used to write content in a file , overwrites the previous content.\n",
    "    WRITELINES() is a method is used to write content in items of a list.\n",
    "'''\n",
    "\n",
    "with open(\"Devaansh.txt\", \"w\") as file1:\n",
    "    write_file = file1.write(\"I LOVE PYTHON\")\n",
    "    print(write_file)\n",
    "    \n",
    "with open(\"Devaansh.txt\", \"w\") as file1:\n",
    "    write1_file = file1.writelines([\"I LOVE PYTHON\" , \"\\n I WANT TO BECOME DATA SCIENTIST\"])\n",
    "    print(write1_file)   "
   ]
  },
  {
   "cell_type": "code",
   "execution_count": null,
   "id": "57a31a04",
   "metadata": {},
   "outputs": [],
   "source": []
  }
 ],
 "metadata": {
  "kernelspec": {
   "display_name": "Python 3 (ipykernel)",
   "language": "python",
   "name": "python3"
  },
  "language_info": {
   "codemirror_mode": {
    "name": "ipython",
    "version": 3
   },
   "file_extension": ".py",
   "mimetype": "text/x-python",
   "name": "python",
   "nbconvert_exporter": "python",
   "pygments_lexer": "ipython3",
   "version": "3.11.3"
  }
 },
 "nbformat": 4,
 "nbformat_minor": 5
}
